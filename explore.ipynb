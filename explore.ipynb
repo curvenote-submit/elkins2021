{
 "cells": [
  {
   "cell_type": "markdown",
   "metadata": {},
   "source": [
    "# Explore: Single Column Model \n",
    "\n",
    "This notebook provides an interactive plot that in its default mode, solves the one-dimensional steady-state equilibrium transport model described in @spiegelman2000. The model is initialized the model, we solve for a single column and plot the results and for comparison the disequilibrium transport model can also be selected"
   ]
  },
  {
   "cell_type": "code",
   "execution_count": 1,
   "metadata": {
    "tags": [
     "remove-stdout"
    ]
   },
   "outputs": [],
   "source": [
    "import pandas as pd\n",
    "import numpy as np\n",
    "import matplotlib.pyplot as plt\n",
    "%matplotlib inline\n",
    "import UserCalc"
   ]
  },
  {
   "cell_type": "markdown",
   "metadata": {},
   "source": [
    "The next cell below will read in the input data using the user filename (e.g. `'sample'`):"
   ]
  },
  {
   "cell_type": "code",
   "execution_count": 3,
   "metadata": {},
   "outputs": [],
   "source": [
    "runname = 'sample'\n",
    "input_file = 'data/{}.csv'.format(runname)\n",
    "df = pd.read_csv(input_file, skiprows=1, dtype=float)"
   ]
  },
  {
   "cell_type": "markdown",
   "metadata": {},
   "source": [
    "#### Single column equilibrium transport model\n",
    "\n",
    "In its default mode, `UserCalc` solves the one-dimensional steady-state equilibrium transport model described in @spiegelman2000. Below we will initialize the model, solve for a single column and plot the results.\n",
    "\n",
    "First we set the physical parameters for the upwelling column and initial conditions:"
   ]
  },
  {
   "cell_type": "code",
   "execution_count": 87,
   "metadata": {},
   "outputs": [
    {
     "data": {
      "application/vnd.jupyter.widget-view+json": {
       "model_id": "6fd19a4450e24f73aa8dbdba762d91b3",
       "version_major": 2,
       "version_minor": 0
      },
      "text/plain": [
       "VBox(children=(HTML(value='<div style=\"text-align:center;font-size:20px\">Compare Equilibrium and Disequlibrium…"
      ]
     },
     "metadata": {},
     "output_type": "display_data"
    }
   ],
   "source": [
    "import ipywidgets as widgets\n",
    "from ipywidgets import VBox, HBox\n",
    "\n",
    "def plot(phi0 = 0.008, W0 = 3., n = 2., Da=10.):\n",
    "    \"\"\"\n",
    "    Parameters\n",
    "    ----------\n",
    "    phi0 : float\n",
    "        Maximum melt porosity\n",
    "    W0 : float\n",
    "        Solid upwelling rate in cm/yr. (to be converted to km/yr. in the driver function)\n",
    "    n : float\n",
    "        Permeability exponent\n",
    "    \"\"\"\n",
    "    # Initial activity values (default is 1.0):\n",
    "    alpha0_238U = 1.\n",
    "    alpha0_235U = 1.\n",
    "    alpha0_230Th = 1.\n",
    "    alpha0_226Ra = 1.\n",
    "    alpha0_231Pa = 1.\n",
    "    \n",
    "    alpha0_all = np.array([alpha0_238U, alpha0_230Th, alpha0_226Ra, alpha0_235U, alpha0_231Pa])\n",
    "    \n",
    "    # model = UserCalc.EquilTransport if model_name == 'EquilTransport' else UserCalc.DisequilTransport\n",
    "    \n",
    "    us = UserCalc.UserCalc(df, model=UserCalc.EquilTransport, Da=Da)\n",
    "    df_out_eq = us.solve_all_1D(phi0, n, W0, alpha0_all)\n",
    "    # fig = UserCalc.plot_1Dcolumn(df_out_eq)\n",
    "\n",
    "    us_diseq = UserCalc.UserCalc(df, model=UserCalc.DisequilTransport, Da=Da)\n",
    "    df_out = us_diseq.solve_all_1D(phi0,n,W0,alpha0_all)\n",
    "\n",
    "    fig, axes = UserCalc.plot_1Dcolumn(df_out)\n",
    "    axes[2].set_prop_cycle(None)\n",
    "    for s in ['(230Th/238U)','(226Ra/230Th)','(231Pa/235U)']:\n",
    "            axes[2].plot(df_out_eq[s],df_out['P'],'-')\n",
    "            axes[2].plot(df_out_eq[s],df_out['P'],'.',color='grey', label=\"Equilibrium Model\")\n",
    "\n",
    "    axes[2].get_legend().remove()\n",
    "    handles, labels = axes[2].get_legend_handles_labels()\n",
    "    axes[2].legend(handles[0:4], labels[0:4], loc=\"upper right\", bbox_to_anchor=(1.9, 1), fontsize=12)\n",
    "    \n",
    "    plt.show()\n",
    "\n",
    "\n",
    "w_phi0 = widgets.FloatSlider(0.008, min=0.001, max=0.01, step=0.0005, readout_format='.2%', description=\"phi0:\")\n",
    "w_W0 = widgets.FloatSlider(3., min=1., max=10., step=0.1, readout_format='.1f', description=\"W0:\")\n",
    "w_n = widgets.FloatSlider(2., min=1., max=4., step=0.1, readout_format='.2f', description=\"n:\")\n",
    "w_Da = widgets.FloatSlider(0., min=0., max=10., step=0.5, readout_format='.2f', description=\"Da:\")\n",
    "\n",
    "et_out = widgets.interactive_output(plot, dict(phi0=w_phi0, W0=w_W0, n=w_n, Da=w_Da))\n",
    "\n",
    "title = widgets.HTML(value='<div style=\"text-align:center;font-size:20px\">Compare Equilibrium and Disequlibrium transport models</div>',\n",
    "                     layout=widgets.Layout(width='800px'))\n",
    "controls = HBox([ VBox([w_phi0, w_W0]), VBox([w_n, w_Da]) ])\n",
    "plots = HBox([et_out])\n",
    "\n",
    "ui = VBox([title, controls, plots], layout=widgets.Layout(width='800px'))\n",
    "display(ui)"
   ]
  },
  {
   "cell_type": "code",
   "execution_count": null,
   "metadata": {},
   "outputs": [],
   "source": []
  }
 ],
 "metadata": {
  "kernelspec": {
   "display_name": "Python 3 (ipykernel)",
   "language": "python",
   "name": "python3"
  },
  "language_info": {
   "codemirror_mode": {
    "name": "ipython",
    "version": 3
   },
   "file_extension": ".py",
   "mimetype": "text/x-python",
   "name": "python",
   "nbconvert_exporter": "python",
   "pygments_lexer": "ipython3",
   "version": "3.9.18"
  }
 },
 "nbformat": 4,
 "nbformat_minor": 4
}
