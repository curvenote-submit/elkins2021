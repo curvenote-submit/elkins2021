{
 "cells": [
  {
   "cell_type": "code",
   "execution_count": null,
   "metadata": {},
   "outputs": [],
   "source": [
    "import pandas as pd\n",
    "import numpy as np\n",
    "import matplotlib.pyplot as plt\n",
    "%matplotlib inline"
   ]
  },
  {
   "cell_type": "markdown",
   "metadata": {},
   "source": [
    "# pyUsercalc\n",
    "\n",
    "A jupyter notebook that attempts to recreate most of the functionality of Spiegelman's [UserCalc](http://www.ldeo.columbia.edu/~mspieg/UserCalc) website for calculating Uranium Series disequilibrium calculations for the Equilbrium transport model describe in \n",
    "\n",
    "Spiegelman, M., 2000. UserCalc: A Web-based uranium series calculator for magma migration problems. Geochem. Geophys. Geosyst. 1, 1016. https://doi.org/10.1029/1999GC000030\n"
   ]
  },
  {
   "cell_type": "markdown",
   "metadata": {},
   "source": [
    "## Some plotting utilities"
   ]
  },
  {
   "cell_type": "code",
   "execution_count": null,
   "metadata": {},
   "outputs": [],
   "source": [
    "import matplotlib as mpl\n",
    "mpl.rcParams['lines.linewidth']=2\n",
    "mpl.rcParams['font.size']=16\n",
    "## Some utility functions for plotting\n",
    "\n",
    "def plot_inputs(df,figsize=(8,6)):\n",
    "    ''' \n",
    "        pretty plots input data from pandas dataframe df\n",
    "    '''\n",
    "    \n",
    "    fig, (ax1, ax2, ax3) = plt.subplots(1,3, sharey=True,figsize=figsize)\n",
    "    ax1.plot(df['F'],df['P'])\n",
    "    ax1.invert_yaxis()\n",
    "    ax1.set_xlabel('F')\n",
    "    ax1.set_ylabel('Pressure (kb)')\n",
    "    xticks = np.linspace(0,max(df['F']),10)\n",
    "    ax1.grid()\n",
    "    ax1.set_xticks(xticks,minor=True)\n",
    "    ax2.plot(df['Kr'],df['P'])\n",
    "    ax2.set_xlabel('Kr')\n",
    "    for s in ['DU','DTh','DRa','DPa']:\n",
    "        ax3.semilogx(df[s],df['P'],label=s)\n",
    "    ax3.set_xlabel('Ds')\n",
    "    ax3.legend(loc='best',bbox_to_anchor=(1.1,1))\n",
    "    \n",
    "def plot_1Dcolumn(df,figsize=(8,6)):\n",
    "    '''\n",
    "        pretty plots output data from dataframe of output\n",
    "    '''"
   ]
  },
  {
   "cell_type": "markdown",
   "metadata": {},
   "source": [
    "## The main UserCalc class\n",
    "\n",
    "This class takes in a dataframe of inputs,  initializes the appropriate splines and porosity functions\n",
    "then presents a set of methods for calculating 1D columns and contour maps"
   ]
  },
  {
   "cell_type": "code",
   "execution_count": null,
   "metadata": {},
   "outputs": [],
   "source": [
    "from scipy.optimize import brentq\n",
    "from scipy.interpolate import interp1d\n",
    "\n",
    "class UserCalc:\n",
    "    ''' A class for constructing solutions for Equilibrium Transport U-series calculations\n",
    "        ala Spiegelman, 2000, G-cubed\n",
    "        \n",
    "        Usage: \n",
    "        us = UserCalc(df,dPdz = 0.32373, n = 2., tol=1.e-6, phi0 = 0.01) \n",
    "        \n",
    "        with \n",
    "        df   :  a pandas-dataframe with columns ['P','Kr','DU','DTh','DRa','DPa']\n",
    "        dPdz :  Pressure gradient to convert P to z\n",
    "        n    :  permeability exponent\n",
    "        tol  :  tolerance for ODE solver\n",
    "        phi0 :  initial \n",
    "        \n",
    "        Methods:\n",
    "            \n",
    "    '''\n",
    "    def __init__(self, df, dPdz = 0.32373, n = 2., tol = 1.e-6, phi0 = 0.01):\n",
    "        self.df = df\n",
    "        self.dPdz = dPdz\n",
    "        self.n = n\n",
    "        self.tol = 1.e-6\n",
    "        self.phi0 = phi0\n",
    "        \n",
    "        # set depth scale h\n",
    "        self.zmin = df['P'].min()/dPdz\n",
    "        self.zmax = df['P'].max()/dPdz\n",
    "        self.h = self.zmax - self.zmin\n",
    "        \n",
    "        # lambda function to define scaled column height zprime\n",
    "        self.zp = lambda P: (self.zmax - P/dPdz)/self.h\n",
    "        \n",
    "        # set interpolants for F and Kr and pressure\n",
    "        self.F = interp1d(self.zp(df['P']),df['F'],kind='cubic')\n",
    "        self.Kr = interp1d(self.zp(df['P']),df['Kr'],kind='cubic')\n",
    "        self.P = interp1d(self.zp(df['P']),df['P'],kind='cubic')\n",
    "\n",
    "        # set maximum degree of melting\n",
    "        self.Fmax = self.df['F'].max()\n",
    "        \n",
    "        # set reference densities (assuming a mantle composition)\n",
    "        self.rho_s = 3300.\n",
    "        self.rho_f = 2800.\n",
    "        \n",
    "        \n",
    "        # initialize reference permeability\n",
    "        self.setAd(self.phi0,n=n)\n",
    "        \n",
    "        # initialize porosity function\n",
    "        \n",
    "    def setAd(self,phi0,n):\n",
    "        ''' \n",
    "            sets the reference permeability given the maximum porosity \n",
    "        '''\n",
    "        Fmax = self.Fmax\n",
    "        self.Ad =  (self.rho_s/self.rho_f*Fmax - phi0*(1. - Fmax)/(1. - phi0))/(phi0**n*(1.-phi0))\n",
    "        \n",
    "    def phi(self,zp):\n",
    "        '''\n",
    "        returns porosity as function of dimensionless column height zp\n",
    "        '''\n",
    "        # effective permeability\n",
    "        K = self.Kr(zp)*self.Ad\n",
    "        \n",
    "        # degree of melting\n",
    "        F = self.F(zp)\n",
    "        \n",
    "        # density ratio\n",
    "        rs_rf = self.rho_s/self.rho_f\n",
    "        \n",
    "        # rootfinding function to define porosity such that f(phi) = 0\n",
    "        \n",
    "        # check if scalar else loop\n",
    "        if np.isscalar(zp):\n",
    "             f = lambda phi: K*phi**self.n*(1. - phi)**2 + phi*(1. + F*(rs_rf - 1.)) - F*rs_rf\n",
    "             phi = brentq(f,0.,1.)\n",
    "        else: # loop over lenght of zp\n",
    "            phi = np.zeros(zp.shape)\n",
    "            for i,z in enumerate(zp):\n",
    "                f = lambda phi: K[i]*phi**self.n*(1. - phi)**2 + phi*(1. + F[i]*(rs_rf - 1.)) - F[i]*rs_rf\n",
    "                phi[i] = brentq(f,0.,1.)\n",
    "        return phi\n",
    "                "
   ]
  },
  {
   "cell_type": "markdown",
   "metadata": {},
   "source": [
    "## Let's look at some input data"
   ]
  },
  {
   "cell_type": "code",
   "execution_count": null,
   "metadata": {},
   "outputs": [],
   "source": [
    "df = pd.read_csv('data/sample.csv',skiprows=1,dtype=float)"
   ]
  },
  {
   "cell_type": "code",
   "execution_count": null,
   "metadata": {},
   "outputs": [],
   "source": [
    "plot_inputs(df)"
   ]
  },
  {
   "cell_type": "code",
   "execution_count": null,
   "metadata": {},
   "outputs": [],
   "source": [
    "# some quick tests\n",
    "\n",
    "u = UserCalc(df)\n",
    "\n",
    "# plot degree of melting and porosity\n",
    "z = np.linspace(0,1.,100)\n",
    "\n",
    "fig, ax1 = plt.subplots()\n",
    "ax1.plot(u.phi(z),u.P(z),'r',label='$\\phi$')\n",
    "ax1.set_xlabel('Porosity',color='r')\n",
    "ax1.set_ylabel('Pressure (kb)')\n",
    "ax1.invert_yaxis()\n",
    "\n",
    "\n",
    "ax2 = ax1.twiny()\n",
    "ax2.plot(u.F(z),u.P(z),'b',label='$F$')\n",
    "ax2.set_xlabel('Degree of melting',color='b')\n",
    "plt.show()\n"
   ]
  },
  {
   "cell_type": "code",
   "execution_count": null,
   "metadata": {},
   "outputs": [],
   "source": []
  },
  {
   "cell_type": "code",
   "execution_count": null,
   "metadata": {},
   "outputs": [],
   "source": []
  }
 ],
 "metadata": {
  "kernelspec": {
   "display_name": "Python 3",
   "language": "python",
   "name": "python3"
  },
  "language_info": {
   "codemirror_mode": {
    "name": "ipython",
    "version": 3
   },
   "file_extension": ".py",
   "mimetype": "text/x-python",
   "name": "python",
   "nbconvert_exporter": "python",
   "pygments_lexer": "ipython3",
   "version": "3.6.5"
  }
 },
 "nbformat": 4,
 "nbformat_minor": 2
}
