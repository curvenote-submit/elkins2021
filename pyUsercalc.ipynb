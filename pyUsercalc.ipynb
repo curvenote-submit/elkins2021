{
 "cells": [
  {
   "cell_type": "code",
   "execution_count": null,
   "metadata": {},
   "outputs": [],
   "source": [
    "import pandas as pd\n",
    "import numpy as np\n",
    "import matplotlib.pyplot as plt\n",
    "%matplotlib inline"
   ]
  },
  {
   "cell_type": "markdown",
   "metadata": {},
   "source": [
    "# pyUsercalc\n",
    "\n",
    "A jupyter notebook that attempts to recreate most of the functionality of Spiegelman's [UserCalc](http://www.ldeo.columbia.edu/~mspieg/UserCalc) website for calculating Uranium Series disequilibrium calculations for the Equilbrium transport model describe in \n",
    "\n",
    "Spiegelman, M., 2000. UserCalc: A Web-based uranium series calculator for magma migration problems. Geochem. Geophys. Geosyst. 1, 1016. https://doi.org/10.1029/1999GC000030\n"
   ]
  },
  {
   "cell_type": "code",
   "execution_count": null,
   "metadata": {},
   "outputs": [],
   "source": [
    "import matplotlib as mpl\n",
    "mpl.rcParams['lines.linewidth']=2\n",
    "mpl.rcParams['font.size']=16\n",
    "## Some utility functions for plotting\n",
    "\n",
    "def plot_inputs(df,figsize=(8,6)):\n",
    "    ''' pretty plots input data from pandas dataframe df\n",
    "    '''\n",
    "    \n",
    "    fig, (ax1, ax2, ax3) = plt.subplots(1,3, sharey=True,figsize=figsize)\n",
    "    ax1.plot(df['F'],df['P'])\n",
    "    ax1.invert_yaxis()\n",
    "    ax1.set_xlabel('F')\n",
    "    ax1.set_ylabel('Pressure (kb)')\n",
    "    xticks = np.linspace(0,max(df['F']),10)\n",
    "    ax1.grid()\n",
    "    ax1.set_xticks(xticks,minor=True)\n",
    "    ax2.plot(df['Kr'],df['P'])\n",
    "    ax2.set_xlabel('Kr')\n",
    "    for s in ['DU','DTh','DRa','DPa']:\n",
    "        ax3.semilogx(df[s],df['P'],label=s)\n",
    "    ax3.set_xlabel('Ds')\n",
    "    ax3.legend(loc='best',bbox_to_anchor=(1.1,1))"
   ]
  },
  {
   "cell_type": "markdown",
   "metadata": {},
   "source": [
    "## Let's look at some data"
   ]
  },
  {
   "cell_type": "code",
   "execution_count": null,
   "metadata": {},
   "outputs": [],
   "source": [
    "df = pd.read_csv('data/sample.csv',skiprows=1,dtype=float)"
   ]
  },
  {
   "cell_type": "code",
   "execution_count": null,
   "metadata": {},
   "outputs": [],
   "source": [
    "plot_inputs(df)"
   ]
  }
 ],
 "metadata": {
  "kernelspec": {
   "display_name": "Python 3",
   "language": "python",
   "name": "python3"
  },
  "language_info": {
   "codemirror_mode": {
    "name": "ipython",
    "version": 3
   },
   "file_extension": ".py",
   "mimetype": "text/x-python",
   "name": "python",
   "nbconvert_exporter": "python",
   "pygments_lexer": "ipython3",
   "version": "3.6.5"
  }
 },
 "nbformat": 4,
 "nbformat_minor": 2
}
