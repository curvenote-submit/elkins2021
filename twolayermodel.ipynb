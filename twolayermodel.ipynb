{
 "cells": [
  {
   "cell_type": "markdown",
   "metadata": {},
   "source": [
    "# Example: Two Layer Model\n",
    "\n",
    "### Simple Spreadsheet Calculator\n",
    "\n",
    "This notebook will demonstrate the use of the `twolayermodel` convenience function which returns  an input dataframe for pyUserCalc consisting of a smoothed two layer model given in  the original UserCalc spreadsheet calculator (Spiegelman, 2000)"
   ]
  },
  {
   "cell_type": "code",
   "execution_count": 1,
   "metadata": {},
   "outputs": [],
   "source": [
    "import pandas as pd\n",
    "import numpy as np\n",
    "import matplotlib.pyplot as plt\n",
    "%matplotlib inline\n",
    "\n",
    "# Import UserCalc:\n",
    "import UserCalc "
   ]
  },
  {
   "cell_type": "markdown",
   "metadata": {},
   "source": [
    "The documentation for this calculator is"
   ]
  },
  {
   "cell_type": "code",
   "execution_count": 2,
   "metadata": {},
   "outputs": [
    {
     "data": {
      "text/plain": [
       "\u001b[0;31mSignature:\u001b[0m \u001b[0mUserCalc\u001b[0m\u001b[0;34m.\u001b[0m\u001b[0mtwolayermodel\u001b[0m\u001b[0;34m(\u001b[0m\u001b[0mP\u001b[0m\u001b[0;34m,\u001b[0m \u001b[0mF\u001b[0m\u001b[0;34m,\u001b[0m \u001b[0mKr\u001b[0m\u001b[0;34m,\u001b[0m \u001b[0mD_lower\u001b[0m\u001b[0;34m,\u001b[0m \u001b[0mD_upper\u001b[0m\u001b[0;34m,\u001b[0m \u001b[0mN\u001b[0m\u001b[0;34m=\u001b[0m\u001b[0;36m100\u001b[0m\u001b[0;34m,\u001b[0m \u001b[0mP_lambda\u001b[0m\u001b[0;34m=\u001b[0m\u001b[0;36m1\u001b[0m\u001b[0;34m)\u001b[0m\u001b[0;34m\u001b[0m\u001b[0;34m\u001b[0m\u001b[0m\n",
       "\u001b[0;31mDocstring:\u001b[0m\n",
       "create a pandas dataframe for the UserCalc sample two-layer model defined by a column that spans pressures from\n",
       "P_bottom to P_top with a possible change in layer properties at pressure P_boundary that is smoothed over a pressure range given by P_lambda\n",
       "\n",
       "Each layer can have its own bulk partition coefficient D, relative permeability Kr. \n",
       "\n",
       "The degree of melting is given by a smoothed ramp function defined by three values of F, F(P_bottom), F(P_boundary) and F(P_top)\n",
       "\n",
       "Parameters:\n",
       "-----------\n",
       "\n",
       "P: array [ P_bottom, P_boundary, P_top ]\n",
       "    pressure bounds in the column (assumed kb) \n",
       "    P[0] = P_bottom is the pressure at the bottom of the column\n",
       "    P[1] = P_boundary is the pressure at the layer boundaries\n",
       "    P[2] = P_top is the pressure at the top of the column\n",
       "F: array [ F_bottom, F_boundary, F_top]\n",
       "    Degree of melting at the bottom, layer boundary and top of the column\n",
       "D_lower:  array [ D_U, D_Th, D_Ra, D_Pa ]\n",
       "    bulk partition coefficients for U-series nuclides in the bottom layer\n",
       "D_upper:  array [ D_U, D_Th, D_Ra, D_Pa ]\n",
       "    bulk partition coefficients for U-series nuclides in the upper layer\n",
       "Kr: array [ Kr_lower,  Kr_upper]\n",
       "    relative permeability of lower and upper layers (controls step function)\n",
       "N: int\n",
       "    Number of rows in dataframe\n",
       "P_lambda: float\n",
       "    Pressure smoothing parameter.  Controls the width of  Smooth steps and ramps between layers (defaults to 1kb)\n",
       "    \n",
       "Returns:\n",
       "--------\n",
       "\n",
       "df: pandas dataframe\n",
       "    with columns P, F, Kr, DU, DTh, DRa, DPa\n",
       "\u001b[0;31mFile:\u001b[0m      ~/dev/curvenote-submit/elkins2021/UserCalc.py\n",
       "\u001b[0;31mType:\u001b[0m      function"
      ]
     },
     "metadata": {},
     "output_type": "display_data"
    }
   ],
   "source": [
    "UserCalc.twolayermodel?"
   ]
  },
  {
   "cell_type": "markdown",
   "metadata": {},
   "source": [
    "#### Example\n",
    "\n",
    "As an example we will construct a dataframe with $N=41$ rows for a 2 layer model where the lower layer  extends from 40-20 Kb,  and the upper layer from 20-0 Kb.\n",
    "\n",
    "The properties of each layer will transition smoothly over a lengthscale of approximately $P_\\lambda = 1$ Kb."
   ]
  },
  {
   "cell_type": "code",
   "execution_count": 3,
   "metadata": {},
   "outputs": [],
   "source": [
    "# set up input data for two layer model\n",
    "\n",
    "# Number of rows in the dataframe\n",
    "N = 41\n",
    "\n",
    "# Pressure [ Bottom, layer_boundary, Top] in kb\n",
    "P = [40., 20, 0.]\n",
    "\n",
    "# Pressure smoothing parameter (in Kb)\n",
    "P_lambda = 1."
   ]
  },
  {
   "cell_type": "markdown",
   "metadata": {},
   "source": [
    "The degree of melting in the lower layer will range linearly from $F=0$ to $F=0.05$, and in the upper layer from $F=0.05$ to $F=0.2$"
   ]
  },
  {
   "cell_type": "code",
   "execution_count": 4,
   "metadata": {},
   "outputs": [],
   "source": [
    "# Degree of melting [Bottom, layer_boundary, Top ]\n",
    "F = [ 0., 0.05, 0.2]"
   ]
  },
  {
   "cell_type": "markdown",
   "metadata": {},
   "source": [
    "Each layer can have its own relative permeability and Bulk partition coefficients for $DU$, $DTh$, $DRa$ and $DPa$"
   ]
  },
  {
   "cell_type": "code",
   "execution_count": 5,
   "metadata": {},
   "outputs": [],
   "source": [
    "# Relative Permeability of each layer\n",
    "Kr_lower = 1.\n",
    "Kr_upper = 1.\n",
    "Kr = [ Kr_lower, Kr_upper ]\n",
    "\n",
    "# Bulk partition coefficients for lower and upper layers [DU, DTh, DRa, DPa]\n",
    "D_lower = [ 0.009, 0.005, 0.0002, 0.0001 ]\n",
    "D_upper = [ 0.005, 0.004, 0.0002, 0.0001 ]"
   ]
  },
  {
   "cell_type": "markdown",
   "metadata": {},
   "source": [
    "##### Usage:\n",
    "\n",
    "call the twolayer model with these input values,  then print and visualize the output dataframe"
   ]
  },
  {
   "cell_type": "code",
   "execution_count": 6,
   "metadata": {},
   "outputs": [],
   "source": [
    "df = UserCalc.twolayermodel(P, F, Kr, D_lower, D_upper, N, P_lambda)"
   ]
  },
  {
   "cell_type": "code",
   "execution_count": 7,
   "metadata": {},
   "outputs": [
    {
     "data": {
      "text/html": [
       "<div>\n",
       "<style scoped>\n",
       "    .dataframe tbody tr th:only-of-type {\n",
       "        vertical-align: middle;\n",
       "    }\n",
       "\n",
       "    .dataframe tbody tr th {\n",
       "        vertical-align: top;\n",
       "    }\n",
       "\n",
       "    .dataframe thead th {\n",
       "        text-align: right;\n",
       "    }\n",
       "</style>\n",
       "<table border=\"1\" class=\"dataframe\">\n",
       "  <thead>\n",
       "    <tr style=\"text-align: right;\">\n",
       "      <th></th>\n",
       "      <th>P</th>\n",
       "      <th>F</th>\n",
       "      <th>Kr</th>\n",
       "      <th>DU</th>\n",
       "      <th>DTh</th>\n",
       "      <th>DRa</th>\n",
       "      <th>DPa</th>\n",
       "    </tr>\n",
       "  </thead>\n",
       "  <tbody>\n",
       "    <tr>\n",
       "      <th>0</th>\n",
       "      <td>40.0</td>\n",
       "      <td>0.0000</td>\n",
       "      <td>1.0</td>\n",
       "      <td>0.009</td>\n",
       "      <td>0.005</td>\n",
       "      <td>0.0002</td>\n",
       "      <td>0.0001</td>\n",
       "    </tr>\n",
       "    <tr>\n",
       "      <th>1</th>\n",
       "      <td>39.0</td>\n",
       "      <td>0.0025</td>\n",
       "      <td>1.0</td>\n",
       "      <td>0.009</td>\n",
       "      <td>0.005</td>\n",
       "      <td>0.0002</td>\n",
       "      <td>0.0001</td>\n",
       "    </tr>\n",
       "    <tr>\n",
       "      <th>2</th>\n",
       "      <td>38.0</td>\n",
       "      <td>0.0050</td>\n",
       "      <td>1.0</td>\n",
       "      <td>0.009</td>\n",
       "      <td>0.005</td>\n",
       "      <td>0.0002</td>\n",
       "      <td>0.0001</td>\n",
       "    </tr>\n",
       "    <tr>\n",
       "      <th>3</th>\n",
       "      <td>37.0</td>\n",
       "      <td>0.0075</td>\n",
       "      <td>1.0</td>\n",
       "      <td>0.009</td>\n",
       "      <td>0.005</td>\n",
       "      <td>0.0002</td>\n",
       "      <td>0.0001</td>\n",
       "    </tr>\n",
       "    <tr>\n",
       "      <th>4</th>\n",
       "      <td>36.0</td>\n",
       "      <td>0.0100</td>\n",
       "      <td>1.0</td>\n",
       "      <td>0.009</td>\n",
       "      <td>0.005</td>\n",
       "      <td>0.0002</td>\n",
       "      <td>0.0001</td>\n",
       "    </tr>\n",
       "  </tbody>\n",
       "</table>\n",
       "</div>"
      ],
      "text/plain": [
       "      P       F   Kr     DU    DTh     DRa     DPa\n",
       "0  40.0  0.0000  1.0  0.009  0.005  0.0002  0.0001\n",
       "1  39.0  0.0025  1.0  0.009  0.005  0.0002  0.0001\n",
       "2  38.0  0.0050  1.0  0.009  0.005  0.0002  0.0001\n",
       "3  37.0  0.0075  1.0  0.009  0.005  0.0002  0.0001\n",
       "4  36.0  0.0100  1.0  0.009  0.005  0.0002  0.0001"
      ]
     },
     "execution_count": 7,
     "metadata": {},
     "output_type": "execute_result"
    }
   ],
   "source": [
    "df.head()"
   ]
  },
  {
   "cell_type": "code",
   "execution_count": 8,
   "metadata": {},
   "outputs": [
    {
     "data": {
      "image/png": "[encoded data removed]",
      "text/plain": [
       "<Figure size 800x600 with 3 Axes>"
      ]
     },
     "metadata": {},
     "output_type": "display_data"
    }
   ],
   "source": [
    "fig = UserCalc.plot_inputs(df)"
   ]
  },
  {
   "cell_type": "markdown",
   "metadata": {},
   "source": [
    "#### Alternatively save the dataframe as a csv file"
   ]
  },
  {
   "cell_type": "code",
   "execution_count": 9,
   "metadata": {},
   "outputs": [],
   "source": [
    "df.set_index(['P']).to_csv('data/sample_twolayer_model.csv')"
   ]
  },
  {
   "cell_type": "code",
   "execution_count": null,
   "metadata": {},
   "outputs": [],
   "source": []
  }
 ],
 "metadata": {
  "kernelspec": {
   "display_name": "Python 3 (ipykernel)",
   "language": "python",
   "name": "python3"
  },
  "language_info": {
   "codemirror_mode": {
    "name": "ipython",
    "version": 3
   },
   "file_extension": ".py",
   "mimetype": "text/x-python",
   "name": "python",
   "nbconvert_exporter": "python",
   "pygments_lexer": "ipython3",
   "version": "3.9.18"
  }
 },
 "nbformat": 4,
 "nbformat_minor": 4
}
