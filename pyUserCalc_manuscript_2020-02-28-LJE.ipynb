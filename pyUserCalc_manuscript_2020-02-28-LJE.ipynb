{
 "cells": [
  {
   "cell_type": "markdown",
   "metadata": {},
   "source": [
    "# pyUserCalc:  A revised Jupyter notebook calculator for uranium-series disequilibria in basalts\n",
    "\n",
    "#### Lynne J. Elkins$^{1}$, Marc Spiegelman$^{2}$\n",
    "\n",
    "$^{1}$ University of Nebraska-Lincoln, Lincoln, NE, USA, lelkins@unl.edu\n",
    "\n",
    "$^{2}$ Lamont-Doherty Earth Observatory of Columbia University, Palisades, NY, USA"
   ]
  },
  {
   "cell_type": "markdown",
   "metadata": {},
   "source": [
    "## Key Points\n",
    "\n",
    "•\tTime-dependent forward melting models remain important for interpretation of U-series data in basalts\n",
    "\n",
    "•\tMaintaining availability of public computing tools is a continuing problem in geochemical modeling\n",
    "\n",
    "•\tThe cloud-based Jupyter notebook presented here offers a solution that can lead to further models"
   ]
  },
  {
   "cell_type": "markdown",
   "metadata": {},
   "source": [
    "## Abstract\n",
    "\n",
    "Meaningful analysis of uranium-series isotopic disequilibria in basaltic lavas relies on the use of complex forward numerical models like dynamic melting (McKenzie, 1985) and equilibrium porous flow (Spiegelman and Elliott, 1993). Historically, such models have either been solved analytically by considering only simplified scenarios such as constant melting rate or constant solid/melt trace element partitioning throughout the melting process, or have relied on incremental or numerical calculators with limited power to solve problems and/or restricted availability. The most public numerical solution to reactive porous flow, UserCalc (Spiegelman, 2000) was maintained on a private institutional server for nearly two decades, but that approach has been unsustainable in light of modern security concerns. Here we present a more long-lasting solution to the problems of availability, model sophistication and flexibility, and long-term access in the form of a cloud-hosted, publicly available Jupyter notebook for calculating time-dependent partial melting with both pure equilibrium and pure disequilibrium melt transport scenarios through a one-dimensional porous flow regime."
   ]
  },
  {
   "cell_type": "markdown",
   "metadata": {},
   "source": [
    "## 1. Introduction\n",
    "\n",
    "The need for time-dependent melting model calculations to interpret the origins of empirically measured U-series isotopic disequilibria in basaltic lavas is well established (e.g., REFS), but the limited and unreliable availability of reproducible tools for making such calculations remains a problem for geochemists. A number of models have been developed for this task, including classical dynamic melting after McKenzie (1985) and the reactive porous flow model of Spiegelman and Elliott (1993). There have since been numerous approaches to using both the dynamic and porous flow models that range from simplified analytical solutions (e.g., Zou, Zou and Zindler, Sims 1999, others) to incremental dynamic melting calculators (Stracke et al., 2003), two-porosity calculators (Lundstrom et al., Jull et al., 2002), and one-dimensional numerical solutions to reactive porous flow (Spiegelman, 2000) and dynamic melting (Bourdon et al., 2005; Elkins et al., 2019). Unfortunately, many of the approaches published since 1990 lacked publicly available tools that would permit others to directly reproduce the authors’ results, and while some of the simplified and incremental approaches remain appropriate for asking and approaching specific questions, they are unsufficient for many current applications that require more complex model use (e.g., two-lithology melting; Elkins et al., 2019). Other tools like UserCalc that were freely available to public users (Spiegelman, 2000) were limited in application and have since become in accessible, due to host server updates in the changing security landscape.\n",
    "\n",
    "In light of the need for more broadly accessible and flexible solutions to U-series disequilibrium problems in partial melting, here we present a cloud-server hosted, publicly available numerical calculator for one-dimensional, decompression partial melting. The tool is provided in a Jupyter notebook with underlying Python coding and that can be run in a browser software window. Users are able to access the tool using a free cloud server account, which permits them to save a copy of the notebook and modify it for their own model calculation needs. As shown below, the notebook is structured to permit the user to select one of two model versions, including classical reactive porous flow after Spiegelman and Elliott (1993) and Spiegelman (2000), as well as a pure disequilibrium transport model, based on the appendix formulas of Spiegelman and Elliott (1993). The numerical integration approach and key formulas are summarized below, and are available in greater detail in the above references."
   ]
  },
  {
   "cell_type": "markdown",
   "metadata": {},
   "source": [
    "## 2. One-dimensional numerical integration of U-series in basalts\n",
    "\n",
    "The UserCalc model of Spiegelman (2000) formulated a one-dimensional numerical integration for the concentrations of selected U-series isotopes in continuously produced partial melts, after the equilibrium formulas of Spiegelman and Elliott (1993). Our model implementation reproduces and builds on those prior efforts. All of the porous flow models calculate the concentrations and activities of U-series isotopes with appropriate half-lives for the study of partial melting and melt transport processes during adiabatic mantle decompression, namely 238U, 230Th, 226Ra, 235U, and 231Pa. The equilibrium model assumes continuous full chemical equilibrium is achieved between the migrating partial melt and the solid rock matrix along a decompressing one-dimensional column, and relies on conservation of mass for each element with a simplified Darcy’s Law expression to govern melt migration. The concentration expression derived by Spiegelman (2000) for this equilibrium scenario (formula 6 in that reference) is:\n",
    "\n",
    "..\n",
    "\n",
    "Spiegelman (2000) further observed that solving for the natural log of the concentrations, rather than the concentrations themselves, is a more “tractable” integration approach for a numerical solver (formulas 7-9 of that article):\n",
    "\n",
    "..\n",
    "\n",
    "Finally, Spiegelman (2000) defined a series of additional variables that allow for simpler integration formulas and aid in efficient solution of the model, namely (list with definitions here: rho_bar, F_bar, R_i/i-1, alpha, w_eff, rhoD_bar, etc.).\n",
    "\n",
    "The reactive porous flow calculation thus relies on both user inputs for F(z) and Di(z), as well as a formula for migrating melt porosity (phi(z) that uses a Darcy’s law expression and scaled permeability factor: (add briefly here).\n",
    "\n",
    "In addition to reproducing the above effort using more modern and readily accessible computer language (Python instead of FORTRAN) and platform (Jupyter notebooks), here we present an additional calculation tool that solves a similar set of equations for pure chemical disequilibrium  transport during one-dimensional decompression melting. The model solves for the concentration of each nuclide using equations 26-27 of Spiegelman and Elliott (1993):\n",
    "\n",
    "..\n",
    "\n",
    "which maintain conservation of mass but act as a more general set of expressions that no longer require full chemical equilibrium to be reached. The modified log concentration expressions for disequilibrium transport are thus:\n",
    "\n",
    "..\n"
   ]
  },
  {
   "cell_type": "markdown",
   "metadata": {},
   "source": [
    "## 3. The pyUserCalc Jupyter notebook"
   ]
  },
  {
   "cell_type": "markdown",
   "metadata": {},
   "source": [
    "The log concentration equations provided above are differential equations that can be solved using one of the many numerical integration solver tools included in Python software packages. Because the disequilibrium transport model can produce highly variable and very large changes in isotopic concentration in the partial melt over very small increments (i.e., it is a very stiff model), a “stiff” numerical solver such as Radau is highly recommended and is used as the default in our code. Below, the basic tool is provided as a web-enabled notebook that can be implemented by the reader to view the model outcomes and figures; a more complete version is available for online use through the free ENKI cloud portal, as detailed in the supporting information. The notebook determines the log concentration of each nuclide throughout a one-dimensional decompression melting scenario, and then calculates the activity of each nuclide for the same scenario. In addition to variable vs. depth input and output figures, porosity and solid upwelling contour plots, and a data table download tool, which resemble outputs of the previous UserCalc incarnation, this new effort also generates data tables over a range of upwelling rates and porosities of interest, plus activity ratio vs. activity ratio “mesh” plots as editable postscript files.\n",
    "\n",
    "To use the computing tool, the user selects the embedded code cell by mouse-click and types 'Shift+Enter' to run the cell. The first cell below imports necessary code libraries to access the Python toolboxes and functions that will be used in the rest of the program."
   ]
  },
  {
   "cell_type": "code",
   "execution_count": null,
   "metadata": {},
   "outputs": [],
   "source": [
    "import pandas as pd\n",
    "import numpy as np\n",
    "import matplotlib.pyplot as plt\n",
    "%matplotlib inline"
   ]
  },
  {
   "cell_type": "markdown",
   "metadata": {},
   "source": [
    "### 3.1. Enter initial input information\n",
    "\n",
    "The user should next set their initial inputs by editing the code in the cell below. The name for the user input data file should be set in quotes (i.e., replacing the word 'sample' with the appropriate filename, minus the file extension). This name will be used both to find the input file and to label any output files produced. The sample file can be downloaded and viewed to see the proper format for input files. The input file should then be saved to the 'data' folder prior to running the code in the notebook below.\n",
    "\n",
    "The user can also set a final melting pressure for the model run (PLithos, in kilobars), in order to impose a lithospheric cap that truncates the melt column. This value can be set to 0.0 if no cap is desired. Once the cell looks correct, the user can run the cell as above."
   ]
  },
  {
   "cell_type": "code",
   "execution_count": null,
   "metadata": {},
   "outputs": [],
   "source": [
    "runname='sample'\n",
    "\n",
    "Plithos = 5.0"
   ]
  },
  {
   "cell_type": "markdown",
   "metadata": {},
   "source": [
    "### 3.2. Instantiate the solver classes\n",
    "\n",
    "By running the cells below, the user defines the different program options needed to calculate U-series isotopes in partial melts. All of these cells can be run to define the necessary classes, but only one or two will later be used in a single instance of the program.\n",
    "\n",
    "#### Option 1: The equilibrium decay chain solver class\n",
    "\n",
    "This class solves the generic radiocative decay chain problem for the logarithm of the radiogenic component of melt concentration, after Equation 9 in Spiegelman (2000).\n",
    "\n",
    "$$\n",
    "    \\frac{dU_i^r}{dz} = \\lambda'_i\\frac{\\overline{\\rho D_{i}}}{\\overline{F D_{i}}}\\left[ R_i^{i-1}\\exp[U_{i-1}-U_i] - 1\\right]\n",
    "$$\n",
    "\n",
    "where \n",
    "$$\n",
    "    \\lambda'_i = \\frac{h\\lambda_i}{W_0}\n",
    "$$ \n",
    "\n",
    "are the decay constants scaled by the solid transport time ($h/W_0$) across a layer of depth $h$.\n",
    "\n",
    "\\begin{align}\n",
    "    \\overline{\\rho D_{i}} &= \\frac{\\rho_f}{\\rho_s}\\phi + (1 -\\phi)D_i\\\\\n",
    "    \\overline{F D_{i}} &= F + (1 -F)D_i\n",
    "\\end{align}\n",
    "\n",
    "and\n",
    "\n",
    "$$\n",
    "    R_i^{i-1} = \\alpha_i\\frac{D_i^0}{D_{i-1}^0}\\frac{\\overline{\\rho D_{i-1}}}{\\overline{\\rho D_{i}}}\n",
    "$$\n",
    "\n",
    "is the ingrowth factor. $\\alpha$ is the initial degree of secular disequilibrium in the *unmelted solid*.\n",
    "\n",
    "Note:  $U_i = \\log(c_f/c_f^0)$ is the total log of the concentration of nuclide $i$ in the melt which can be decomposed into\n",
    "\n",
    "$$\n",
    "  U_i = U^s_i + U^r_i\n",
    "$$\n",
    "\n",
    "where\n",
    "\n",
    "$$\n",
    "    U^s_i = \\log\\left[ \\frac{D_i^0}{\\overline{FD}_i}\\right]\n",
    "$$\n",
    "\n",
    "is the log concentration of a stable nuclide with the same partition coefficients.  U^r_i is the radiogenic ingrowth component."
   ]
  },
  {
   "cell_type": "code",
   "execution_count": null,
   "metadata": {},
   "outputs": [],
   "source": [
    "# This is the equilibrium transport calculator. You probably will not need or want to edit this cell.\n",
    "# A possible exception: the ODE solver method can be changed if desired, but the default is probably best.\n",
    "\n",
    "from scipy.integrate import solve_ivp\n",
    "\n",
    "class EquilTransport:\n",
    "    '''\n",
    "    A class for calculating generic radioactive decay chains for the scaled equations 9 in Spiegelman (2000)\n",
    "    \n",
    "    Usage:  solver=model(alpha0,lambdas,D,F,dFdz,phi,rho_f=2800.,rho_s=3300.,method='Radau')\n",
    "    \n",
    "    Inputs:\n",
    "        alpha0  :  numpy array of initial activities\n",
    "        lambdas :  decay constants scaled by solid transport time\n",
    "        D       :  Function returning an array of partition coefficents at scaled height z'\n",
    "        F       :  Function that returns the degree of melting F as a function of  z'\n",
    "        dFdz    :  Function that returns the derivative of F with respect to z'\n",
    "        phi     :  Function that returns the porosity phi as a function of z'\n",
    "        R       :  Reactivity factor\n",
    "        rho_f   :  melt_density\n",
    "        rho_s   :  solid_density\n",
    "        method  :  ODE solver method to be passed to ode_solveivp (one of 'RK45', 'Radau', 'BDF')\n",
    "        \n",
    "    Outputs:  pandas DataFrame with columns z, Us, Uf\n",
    "    '''      \n",
    "    def __init__(self,alpha0,lambdas,D,F,dFdz,phi,Rfact,rho_f=2800., rho_s=3300.,method='Radau'):\n",
    "        self.alpha0 = alpha0\n",
    "        self.N = len(alpha0)\n",
    "        self.D = D\n",
    "        self.D0 = np.array([D[i](0.) for i in range(self.N)])\n",
    "        self.lambdas = lambdas\n",
    "        self.F  = F\n",
    "        self.dFdz = dFdz\n",
    "        self.phi = phi\n",
    "        self.Rfact = Rfact\n",
    "        self.rho_f = rho_f\n",
    "        self.rho_s = rho_s\n",
    "        self.method = method\n",
    "    \n",
    "    def F_bar(self,zp):\n",
    "        '''\n",
    "        returns  numpy array of size (len(zp),len(D)) for\n",
    "        \n",
    "        Fbar_D = F + (1. - F)*D_i\n",
    "        '''\n",
    "        D = self.D\n",
    "        F = self.F(zp)\n",
    "        if np.isscalar(zp):\n",
    "            F_bar_D = np.array([ F + (1. - F)*D[i](zp) for i in range(len(D))])\n",
    "        else :\n",
    "            F_bar_D = np.zeros((len(zp),len(D)))\n",
    "            F_bar_D = np.array([ F + (1. - F)*D[i](zp) for i in range(len(D))]).T\n",
    "        return F_bar_D\n",
    "    \n",
    "    def rho_bar(self,zp):\n",
    "        '''\n",
    "        returns numpy array of  size (len(zp),len(D)) for\n",
    "        \n",
    "        rho_bar_D = rho_f/rho_s*phi + (1. - phi)*D_i\n",
    "        '''\n",
    "        rho_s = self.rho_s\n",
    "        rho_f = self.rho_f\n",
    "        \n",
    "        phi = self.phi(zp)\n",
    "        D = self.D\n",
    "        if np.isscalar(zp):\n",
    "            rho_bar_D = np.array([ rho_f/rho_s*phi + (1. - phi)*D[i](zp) for i in range(len(D))])\n",
    "        else: \n",
    "            rho_bar_D = np.zeros((len(zp),len(D)))\n",
    "            rho_bar_D = np.array([ rho_f/rho_s*phi + (1. - phi)*D[i](zp) for i in range(len(D))]).T\n",
    "           \n",
    "        return rho_bar_D\n",
    "    \n",
    "    def rhs(self,z,Ur):\n",
    "        '''\n",
    "        Returns right hand side of generic decay chain problem for the log of the radiogenic concentration.\n",
    "        \n",
    "        The full equation for dU/dz is given by Eq (9) in Spiegelman 2000, but here we split\n",
    "        \n",
    "        Uf = U^st + U^r where\n",
    "        U^st is the log of the stable element concentrations U^s = log(D(0)/Fbar_z)\n",
    "        U^r is the radiogenic ingrowth part\n",
    "        \n",
    "        Solid concentration is ignored as unnecessary in this version, but would be simply the fluid\n",
    "        concentration times the partition coefficient for that depth.\n",
    "        \n",
    "        The general equation is \n",
    "            dU_i^r/dz = h\\lambda_i/Weff_i * [ R_i^{i-1} exp(Uf_{i-1} - Uf_i) - 1.)\n",
    "            \n",
    "        This routine assumes that lambda, D, D0, lambda_tmp, phi0, W_0 and alpha_0 are set by the UserCalc driver routine.\n",
    "        '''\n",
    "            \n",
    "        # determine F_bar(z) and rho_bar(z) once\n",
    "        Fb = self.F_bar(z)\n",
    "        rb = self.rho_bar(z)\n",
    "        \n",
    "        # initial value of partition coefficients\n",
    "        D0 = self.D0\n",
    "        \n",
    "        # initial value densities\n",
    "        rho_f = self.rho_f\n",
    "        rho_s = self.rho_s\n",
    "        \n",
    "        # stable concentration\n",
    "        Ust = np.log(D0/Fb)\n",
    "        \n",
    "        # total melt concentration\n",
    "        Uf = Ust + Ur\n",
    "\n",
    "        # effective velocity and scaled rate term\n",
    "        lambda_prime = self.lambdas*rb/Fb\n",
    "        \n",
    "        # ingrowth factor and exponential factor\n",
    "        R = np.zeros(len(lambda_prime))\n",
    "        expU = np.zeros(len(lambda_prime))\n",
    "        for i in range(1,len(lambda_prime)):\n",
    "            R[i] = self.alpha0[i]*D0[i]/D0[i-1]*rb[i-1]/rb[i]\n",
    "            expU[i] = np.exp(Uf[i-1]-Uf[i])\n",
    "            \n",
    "        # return full RHS\n",
    "        \n",
    "        return lambda_prime*(R*expU - 1.)\n",
    "        \n",
    "    def solve(self,z_eval=None):\n",
    "        '''\n",
    "        solves generic radioactive decay chain problem as an ODE initial value problem\n",
    "        if z_eval = None, save every point\n",
    "        else save output at every z_eval depth\n",
    "        '''\n",
    "        \n",
    "        # Set initial condition and solve ODE      \n",
    "        Ur_0 = np.zeros(len(self.D0))\n",
    "        sol = solve_ivp(self.rhs,(0.,1.),Ur_0,t_eval=z_eval,method=self.method)\n",
    "        z = sol.t\n",
    "        Ur = sol.y\n",
    "        # calculate stable component of fluid concentration\n",
    "        Ust = np.log(self.D0/self.F_bar(z)).T \n",
    "        # calculate total fluid concentration\n",
    "        Uf = Ur + Ust\n",
    "        # placeholder for solid concentration (not used here, but cannot be blank)\n",
    "        Us = Uf\n",
    "        return z,Us,Uf\n",
    "        \n",
    "        "
   ]
  },
  {
   "cell_type": "markdown",
   "metadata": {},
   "source": [
    "#### Option 2: The disequilibrium decay chain solver class\n",
    "\n",
    "This class solves the disequilibrium transport problem described in Spiegelman and Elliott, 1993, i.e., Eqs. (26) and (27) rewritten in terms of the logs of the concentrations:\n",
    "\n",
    "$$\n",
    "    U^s_i = \\log\\left(\\frac{c_i^{s}}{c_{i,0}^s}\\right),  \\quad U^f_i = \\log\\left(\\frac{c_i^{f}}{c_{i,0}^f}\\right) \n",
    "$$\n",
    "thus\n",
    "$$\n",
    "    \\frac{dU_i}{dz} = \\frac{1}{c_i} \\frac{dc_i}{dz}\n",
    "$$\n",
    "\n",
    "... (expand this to add methods and equations for scaled reactivity, any additional equations needed for clarity) ..."
   ]
  },
  {
   "cell_type": "markdown",
   "metadata": {},
   "source": [
    "### quick and dirty derivation\n",
    "\n",
    "Conservation of mass for reactive stable trace element 1-D steady state\n",
    "\n",
    "$$\n",
    "\\begin{align}\n",
    "\\frac{d}{dz} \\rho_f \\phi w &= \\Gamma \\\\\n",
    "\\frac{d}{dz} \\rho_s (1-\\phi) W &= -\\Gamma \\\\\n",
    "\\frac{d}{dz} \\rho_f \\phi w c_f &= \\frac{c_s}{D}\\Gamma - R(c_f - \\frac{c_s}{D})   \\\\\n",
    "\\frac{d}{dz} \\rho_s (1-\\phi) W c_s &=  - \\frac{c_s}{D}\\Gamma + R(c_f - \\frac{c_s}{D})  \\\\\n",
    "\\end{align}\n",
    "$$\n",
    "\n",
    "And for an adiabatic upwelling column, \n",
    "$$\n",
    "\\Gamma = \\rho_s W_0 \\frac{d F}{dz}\n",
    "$$\n",
    "\n",
    "so conservation of total mass can be integrated to give\n",
    "$$\n",
    "\\begin{align}\n",
    "\\rho_f \\phi w &= \\rho_s W_0 F(z)\\\\\n",
    "\\rho_s (1-\\phi) W &= \\rho_s W_0 (1 - F(z))\\\\\n",
    "\\end{align}\n",
    "$$"
   ]
  },
  {
   "cell_type": "markdown",
   "metadata": {},
   "source": [
    "## Expand the concentration equations and substitute conservation of total mass\n",
    "$$\n",
    "\\begin{align}\n",
    "\\rho_s W_0 F\\frac{d}{dz} c_f + c_f\\Gamma &= \\frac{c_s}{D}\\Gamma - R(c_f - \\frac{c_s}{D})   \\\\\n",
    "\\rho_s W_0 (1 - F(z))\\frac{d}{dz}c_s - c_s\\Gamma &=  - \\frac{c_s}{D}\\Gamma + R(c_f - \\frac{c_s}{D})  \\\\\n",
    "\\end{align}\n",
    "$$\n",
    "\n",
    "combine the $\\Gamma$ terms and rearrange \n",
    "$$\n",
    "\\begin{align}\n",
    "\\rho_s W_0 F\\frac{d}{dz} c_f  &= \\Gamma(\\frac{c_s}{D} - c_f) - R(c_f - \\frac{c_s}{D})   \\\\\n",
    "\\rho_s W_0 (1 - F(z))\\frac{d}{dz}c_s  &=  \\Gamma c_s(1 - \\frac{1}{D})+ R(c_f - \\frac{c_s}{D})  \\\\\n",
    "\\end{align}\n",
    "$$\n",
    "\n",
    "divide by $c_f$ and $c_s$ respectively and move the $W_0$ terms\n",
    "$$\n",
    "\\begin{align}\n",
    "\\frac{1}{c_f}\\frac{d c_f}{dz}  &= \\frac{1}{\\rho_s W_0 F}\\left[\\Gamma(\\frac{c_s}{Dc_f} - 1) - R(1 - \\frac{c_s}{Dc_f})\\right]   \\\\\n",
    "\\frac{1}{c_s}\\frac{d c_s}{dz}  &=  \\frac{1}{\\rho_s W_0 (1 - F(z))}\\left[\\Gamma (1 - \\frac{1}{D})+ \\frac{R}{D}(\\frac{Dc_f}{c_s} - 1) \\right] \\\\\n",
    "\\end{align}\n",
    "$$\n",
    "\n",
    "The first term on the RHS of these equations are identical to disequilibrium melting and reduce to the former case.  So we really just need to deal with the reactive terms and the transformation to log concentrations.\n",
    "\n",
    "So using the definitions for $U_f$ and $U_s$ then we can rewrite\n",
    "$$\n",
    "c_f = c_f^0e^{U_f} = \\frac{c_s^0}{D_0}e^{U_f}\n",
    "$$\n",
    "\n",
    "$$\n",
    "c_s = c_s^0e^{U_s} \n",
    "$$\n",
    "\n",
    "therefore  \n",
    "$$\n",
    "    \\frac{Dc_f}{c_s} = \\frac{D}{D_0}e^{(U_f - U_s})\n",
    "$$\n",
    "$$\n",
    "    \\frac{c_s}{D c_f} = \\frac{D_0}{D}e^{(U_s - U_f})\n",
    "$$\n",
    "\n",
    "so substituting\n",
    "$$\n",
    "\\begin{align}\n",
    "\\frac{d U_f}{dz}  &= \\frac{1}{\\rho_s W_0 F}\\left[\\Gamma(\\frac{D_0}{D}e^{(U_s - U_f}) - 1) - R(1 - \\frac{D_0}{D}e^{(U_s - U_f}))\\right]   \\\\\n",
    "\\frac{d U_s}{dz}  &=  \\frac{1}{\\rho_s W_0 (1 - F(z))}\\left[\\Gamma (1 - \\frac{1}{D})+ \\frac{R}{D}(\\frac{D}{D_0}e^{(U_f - U_s}) - 1) \\right] \\\\\n",
    "\\end{align}\n",
    "$$\n",
    "\n",
    "Let's substitute in $\\Gamma$ for adiabatic upwelling and scale $z$ by $hz$\n",
    "\n",
    "$$\n",
    "\\begin{align}\n",
    "\\frac{d U_f}{dz}  &= \\frac{1}{F}\\left[\\frac{dF}{dz}(\\frac{D_0}{D}e^{(U_s - U_f}) - 1)\\right] - \\frac{Rh}{\\rho_s W_0 F}\\left[1 - \\frac{D_0}{D}e^{(U_s - U_f})\\right]   \\\\\n",
    "\\frac{d U_s}{dz}  &=  \\frac{1}{(1 - F(z))}\\left[\\frac{d F}{dz} (1 - \\frac{1}{D})\\right]+ \\frac{Rh}{\\rho_s W_0D(1 - F(z))}\\left[\\frac{D}{D_0}e^{(U_f - U_s}) - 1 \\right] \\\\\n",
    "\\end{align}\n",
    "$$\n",
    "\n",
    "### The Dahmk\\\"ohler number\n",
    "\n",
    "The dimensionless combination\n",
    "\n",
    "$$\n",
    "Da = \\frac{Rh}{\\rho_s W_0}\n",
    "$$\n",
    "\n",
    "is the Dahmk\\\"ohler number which governs the reaction rate relative to the solid transport time.  One quick estimate for $R$ if re-equilibration is limited by solid state diffusion is simply\n",
    "\n",
    "$$\n",
    "    R\\approx \\frac{\\rho_s{\\cal D}_i}{d^2}\n",
    "$$\n",
    "\n",
    "where ${\\cal D}_i$ is the *solid state* diffusivity of element $i$  and $d$ is a nominal spacing between melt-channels (i.e. could be grain scale or 10 cm veins). \n",
    "\n",
    "So Dimensionless equations \n",
    "$$\n",
    "\\begin{align}\n",
    "\\frac{d U_f}{dz}  &= \\frac{1}{F}\\left[\\frac{dF}{dz}\\left(\\frac{D_0}{D}e^{(U_s - U_f}) - 1\\right) - Da\\left(1 - \\frac{D_0}{D}e^{(U_s - U_f})\\right)\\right]   \\\\\n",
    "\\frac{d U_s}{dz}  &=  \\frac{1}{(1 - F(z))}\\left[\\frac{d F}{dz} \\left(1 - \\frac{1}{D}\\right)+ \\frac{Da}{D}\\left(\\frac{D}{D_0}e^{(U_f - U_s}) - 1\\right) \\right] \\\\\n",
    "\\end{align}\n",
    "$$\n",
    "\n",
    "and a diffusion controlled $Da$ can be \n",
    "$$\n",
    "Da = \\frac{{\\cal D}_i h}{W_0 d^2}\n",
    "$$\n"
   ]
  },
  {
   "cell_type": "code",
   "execution_count": null,
   "metadata": {},
   "outputs": [],
   "source": [
    "# This is the disequilibrium transport calculator. You probably will not need or want to edit this cell.\n",
    "# A possible exception: the ODE solver method can be changed if desired, but the default is probably best.\n",
    "\n",
    "from scipy.integrate import solve_ivp\n",
    "\n",
    "class DisequilTransport:\n",
    "    '''\n",
    "    A class for calculating generic radioactive decay chains for the scaled equations 9 in Spiegelman (2000)\n",
    "    \n",
    "    Usage:  solver=model(alpha0,lambdas,D,F,dFdz,phi,rho_f=2800., rho_s=3300.,method='Radau')\n",
    "    \n",
    "    inputs:\n",
    "        alpha0  :  numpy array of initial activities\n",
    "        lambdas :  decay constants scaled by solid transport time\n",
    "        D       :  Function returning an array of partition coefficents at scaled height z'\n",
    "        F       :  Function that returns the degree of melting F as a function of  z'\n",
    "        dFdz    :  Function that returns the derivative of F with respect to z'\n",
    "        phi     :  Function that returns the porosity phi as a function of z'\n",
    "        Rfact   :  Reactivity factor\n",
    "        rho_f   :  melt_density\n",
    "        rho_s   :  solid_density\n",
    "        method  :  ODE solver method to be passed to ode_solveivp (one of 'RK45', 'Radau', 'BDF')\n",
    "        \n",
    "    Outputs:  pandas DataFrame with columns z, Us, Uf\n",
    "    '''\n",
    "    def __init__(self,alpha0,lambdas,D,W0,F,dFdz,phi,Rfact,rho_f=2800.,rho_s=3300.,method='Radau'):\n",
    "        self.alpha0 = alpha0\n",
    "        self.N = len(alpha0)\n",
    "        self.D = lambda zp: np.array([D[i](zp) for i in range(self.N) ])\n",
    "        self.D0 = self.D(0.)\n",
    "        self.W0 = W0\n",
    "        self.lambdas = lambdas\n",
    "        self.F  = F\n",
    "        self.dFdz = dFdz\n",
    "        self.phi = phi\n",
    "        self.Rfact = Rfact\n",
    "        self.rho_f = rho_f\n",
    "        self.rho_s = rho_s\n",
    "        self.method = method\n",
    "        \n",
    "    def rhs(self,z,U):\n",
    "        '''\n",
    "        Returns right hand side of generic chain problem for the log of concentration of the solid\n",
    "        U^s = U[:N]  where N=length of the decay chain\n",
    "        and\n",
    "        U^f = U[N:]\n",
    "        \n",
    "        The full equation for dU/dz is given by Eqs 28 and 29 in Spiegelman and Elliott (1993), but\n",
    "        in terms of concentrations c^s and c^f. Here log concentrations are calculated as in Spiegelman (2000).\n",
    "            \n",
    "        This routine assumes that lambda, D, D0, lambda_tmp, phi0, W_0 and alpha_0 are set by the UserCalc driver routine.\n",
    "        '''\n",
    "        \n",
    "        # calculate F(z) and D(z)\n",
    "        F = self.F(z)\n",
    "        dFdz = self.dFdz(z)\n",
    "        D = np.array(self.D(z))\n",
    "        phi = self.phi(z)\n",
    "        \n",
    "        # initial value of partition coefficients\n",
    "        D0 = self.D0\n",
    "        \n",
    "        # split U into solid and melt components for convenience\n",
    "        N = self.N\n",
    "        Us = U[:N]\n",
    "        Uf = U[N:]\n",
    "        \n",
    "# stable melting component of dU\n",
    "        dUs = (1. - 1./D)/(1.-F)*dFdz + Rfact/D*(D/D0*np.exp(Uf-Us)-1.)/(self.rho_s*self.W0*(1.-F))\n",
    "        # careful here about the initial gradient (and floating point test)\n",
    "        if F == 0.:\n",
    "            dUf = dUs/2.\n",
    "        else:\n",
    "            dUf = (D0/D*np.exp(Us-Uf)-1.)/F - Rfact*(1. - D0/D*np.exp(Us-Uf))/(self.rho_s*self.W0*F)\n",
    "            \n",
    "        # ingrowth terms\n",
    "        Rs = np.zeros(N)\n",
    "        Rf = np.zeros( N)\n",
    "        a0 = self.alpha0\n",
    "        for i in range(1,N):\n",
    "            Rs[i] = a0[i-1]/a0[i]*np.exp(Us[i-1]-Us[i])\n",
    "            Rf[i] = (D0[i]*a0[i-1])/(D0[i-1]*a0[i])*np.exp(Uf[i-1]- Uf[i])\n",
    "            \n",
    "        # add to stable terms\n",
    "        dUs += (1 - phi)/(1. - F)*self.lambdas*(Rs - 1.)\n",
    "        if F == 0.:\n",
    "            dUf +=  self.lambdas*(Rf - 1.)\n",
    "        else:\n",
    "            dUf += (self.rho_f*phi)/(self.rho_s*F)*self.lambdas*(Rf - 1.)\n",
    "            \n",
    "        # return full RHS\n",
    "        dU=np.zeros(2*N)\n",
    "        dU[:N] = dUs\n",
    "        dU[N:] = dUf\n",
    "        \n",
    "        return dU\n",
    "        \n",
    "    def solve(self,z_eval=None):\n",
    "        '''\n",
    "        solves generic radioactive decay chain problem as an ODE initial value problem\n",
    "        if z_eval = None,  save every point\n",
    "        else save output at every z_eval depth\n",
    "        '''\n",
    "        \n",
    "        # Set initial condition and solve ODE  \n",
    "        N = self.N\n",
    "        U0 = np.zeros(2*N)\n",
    "        try:\n",
    "            sol = solve_ivp(self.rhs,(0.,1.),U0,t_eval=z_eval,method=self.method)\n",
    "            z = sol.t\n",
    "            U = sol.y\n",
    "        except ValueError as err:\n",
    "            print('Warning:  solver did not complete, returning NaN: {}'.format(err))\n",
    "            z = np.array([1.])\n",
    "            U = np.NaN*np.ones((2*N,len(z)))\n",
    "        # return solid and liquid concentrations\n",
    "        Us = U[:N,:]\n",
    "        Uf = U[N:,:]\n",
    "        return z,Us,Uf\n",
    "        "
   ]
  },
  {
   "cell_type": "markdown",
   "metadata": {},
   "source": [
    "### 3.3. View input data\n",
    "The cells below will read in the input data using the user filename specified above. Note that the cell can first be edited to select one of two file read options: the first assumes there is no comment header row, while the second expects one row of header labels. Currently, the second option is selected by default."
   ]
  },
  {
   "cell_type": "code",
   "execution_count": null,
   "metadata": {},
   "outputs": [],
   "source": [
    "input_file = 'data/{}.csv'.format(runname)\n",
    "\n",
    "#df = pd.read_csv(input_file,dtype=float)\n",
    "df = pd.read_csv(input_file,skiprows=1,dtype=float)\n",
    "df"
   ]
  },
  {
   "cell_type": "markdown",
   "metadata": {},
   "source": [
    "#### 3.3.1. Modify the input file for different lithospheric scenarios\n",
    "\n",
    "The cell below imposes a lithospheric melting cap at the final melting pressure, PLithos. There are two options for how this final melting pressure is imposed; the user can select which is active to impose their preferred condition on the input data set. The first option (currently inactive by default) simply deletes all lines in the input table for depths shallower than PLithos. This is a quick, simple option for a 1D column scenario, where melting simply stops at the base of the lithosphere.\n",
    "\n",
    "The second option changes the degree of melting increments (dF) to a value of 0 for all depths shallower than 'PLithos'. This is preferable if the user aims to track additional radioactive decay after melting has ceased and during transport through the lithosphere. Note that if the PLithos value is not explicitly listed as a pressure in the data input file, the script below finds the nearest pressure to PLithos to identify the maximum degree of melting (Fmax) reached at the base of the lithosphere."
   ]
  },
  {
   "cell_type": "code",
   "execution_count": null,
   "metadata": {},
   "outputs": [],
   "source": [
    "# Option 1:\n",
    "# df = df[df.P > Plithos]\n",
    "\n",
    "# Option 2:\n",
    "Pfinal = df.iloc[(df['P']-Plithos).abs().idxmin()]\n",
    "F_max = Pfinal[1].tolist()\n",
    "df.loc[(df['P'] < Plithos),['F']] = F_max"
   ]
  },
  {
   "cell_type": "markdown",
   "metadata": {},
   "source": [
    "#### 3.3.2. Modifications for melt segregation in the lithosphere\n",
    "\n",
    "If option 2 (tracking melt transport through the lithosphere after melting has stopped) was selected above, the cell below offers additional choices for overwriting melt-rock interaction in the lithosphere after melt segregation occurs. As above, the user can choose to comment or uncomment the preferred option (or skip this cell altogher to leave the partition coefficients as they are in the initial input file). We note that if dF = 0 (i.e., there is no melting occurring), melt-rock reaction would only occur during equilibrium or scaled reactivity porous flow scenarios; no reaction would occur in the pure chemical disequilibrium scenario.\n",
    "\n",
    "The first choice below imposes new, constant melt-rock partition coefficients during lithospheric transport. These values are assumed to be fixed and are defined by the user. The second choice defines the partition coefficients after melting has stopped using the partition coefficient values at the depth where melting stops (i.e., PLithos in one-dimensional scenarios)."
   ]
  },
  {
   "cell_type": "code",
   "execution_count": null,
   "metadata": {},
   "outputs": [],
   "source": [
    "# Option 1 (new melt-rock partition coefficients):\n",
    "D_U_lith = 0.005\n",
    "D_Th_lith = 0.004\n",
    "D_Ra_lith = 0.00002\n",
    "D_Pa_lith = 0.00001\n",
    "\n",
    "# Option 2 (melt-rock partition coefficients defined based on final melting pressure):\n",
    "#D_U_lith = Pfinal[3].tolist()\n",
    "#D_Th_lith = Pfinal[4].tolist()\n",
    "#D_Ra_lith = Pfinal[5].tolist()\n",
    "#D_Pa_lith = Pfinal[6].tolist()\n",
    "\n",
    "# Implement the changes above (do not change these lines):\n",
    "df.loc[(df['P'] < Plithos),['DU']] = D_U_lith\n",
    "df.loc[(df['P'] < Plithos),['DTh']] = D_Th_lith\n",
    "df.loc[(df['P'] < Plithos),['DRa']] = D_Ra_lith\n",
    "df.loc[(df['P'] < Plithos),['DPa']] = D_Pa_lith"
   ]
  },
  {
   "cell_type": "markdown",
   "metadata": {},
   "source": [
    "#### 3.3.3. View modified input variables and data table\n",
    "\n",
    "The cells below will process the input data and show them as a set of figures and a table so the user can check they are correct prior to any calculations.\n",
    "\n",
    "Figure 1. Pressure in kilobars vs. degree of melting (F), permeability scaling factor (Kr), and partition coefficient values (D values) for the modified input conditions for planned model runs."
   ]
  },
  {
   "cell_type": "code",
   "execution_count": null,
   "metadata": {},
   "outputs": [],
   "source": [
    "from UserCalc import plot_inputs\n",
    "plot_inputs(df)"
   ]
  },
  {
   "cell_type": "markdown",
   "metadata": {},
   "source": [
    "Table 1. Amended input table showing and confirming any input modifications made above."
   ]
  },
  {
   "cell_type": "code",
   "execution_count": null,
   "metadata": {},
   "outputs": [],
   "source": [
    "df"
   ]
  },
  {
   "cell_type": "markdown",
   "metadata": {},
   "source": [
    "### 3.4. Solving the 1-D column problem\n",
    "\n",
    "The cell below will initialize the solver object and establish the initial conditions needed to complete a single, one-dimensional model calculation run. Three options for models are presented: the 'EquilTransport' model calculates reactive porous flow with full chemical equilibrium throughout, after Spiegelman and Elliot (1993). The 'DisequilTransport' model determines isotopic activities during melting for a pure chemical disequilibrium transport scenario. The user should select the appropriate model for the calculation they are performing.\n",
    "\n",
    "Before running the cell, the user should also select desired parameters for the initial model run. Note that if nothing is entered or any of the lines are deleted, the model default assumes initial porosity (phi0) = 0.008, initial solid upwelling rate (W0) = 3 cm/yr., a permeability exponent (n) of 2, and fluid and solid densities (rho_f and rho_s, respectively) of 2800 and 3300. Note that upwelling rates should always be entered in units of cm/yr.\n",
    "\n",
    "Finally, in cases where initial conditions other than secular equilibrium are desired, the default isotopic activities ('alpha0' values for each nuclide, with default of 1.0) can be overwritten with the user's preferred values.\n",
    "\n",
    "When the cell is run, a full one-dimensional calculation will be completed and the outcomes can be viewed below."
   ]
  },
  {
   "cell_type": "code",
   "execution_count": null,
   "metadata": {},
   "outputs": [],
   "source": [
    "from UserCalc import UserCalc\n",
    "#us = UserCalc(EquilTransport,df)\n",
    "us = UserCalc(DisequilTransport,df)\n",
    "\n",
    "phi0 = 0.008\n",
    "W0 = 3.\n",
    "n = 2.\n",
    "rho_f = 2800.\n",
    "rho_s = 3300.\n",
    "\n",
    "Rfact = 0.05\n",
    "\n",
    "alpha0_238U = 1.\n",
    "alpha0_235U = 1.\n",
    "alpha0_230Th = 1.\n",
    "alpha0_226Ra = 1.\n",
    "alpha0_231Pa = 1.\n",
    "\n",
    "# Run the model for the conditions above.\n",
    "alpha0_all = ([alpha0_238U,alpha0_235U,alpha0_226Ra,alpha0_235U,alpha0_231Pa])\n",
    "df_out = us.solve_all_1D(phi0,n,W0,alpha0_all)"
   ]
  },
  {
   "cell_type": "markdown",
   "metadata": {},
   "source": [
    "The cell below will display the activity ratios determined for the final melt composition at the end of the simulation (i.e., the top of the melting column)."
   ]
  },
  {
   "cell_type": "code",
   "execution_count": null,
   "metadata": {},
   "outputs": [],
   "source": [
    "df_out[['(230Th/238U)','(226Ra/230Th)','(231Pa/235U)']].iloc[-1]"
   ]
  },
  {
   "cell_type": "markdown",
   "metadata": {},
   "source": [
    "The following cells will display the output results for the one-dimensional model run as a data table (Table 2) and set of figures with pressure (Figure 2)."
   ]
  },
  {
   "cell_type": "markdown",
   "metadata": {},
   "source": [
    "Table 2. View the output table of initial one-dimensional model run results."
   ]
  },
  {
   "cell_type": "code",
   "execution_count": null,
   "metadata": {},
   "outputs": [],
   "source": [
    "df_out"
   ]
  },
  {
   "cell_type": "markdown",
   "metadata": {},
   "source": [
    "Figure 2. Pressure in kilobars vs. a) porosity and degree of melting, and b) isotopic activity ratios for the initial model run above."
   ]
  },
  {
   "cell_type": "code",
   "execution_count": null,
   "metadata": {},
   "outputs": [],
   "source": [
    "from UserCalc import plot_1Dcolumn\n",
    "plot_1Dcolumn(df_out)\n",
    "plt.show()"
   ]
  },
  {
   "cell_type": "markdown",
   "metadata": {},
   "source": [
    "Finally, the cell below will export the model results to a downloadable .csv file in the user's folder."
   ]
  },
  {
   "cell_type": "code",
   "execution_count": null,
   "metadata": {},
   "outputs": [],
   "source": [
    "df_out.to_csv(\"output_files/{}_1D_solution.csv\".format(runname))"
   ]
  },
  {
   "cell_type": "markdown",
   "metadata": {},
   "source": [
    "### 3.5. Calculated gridded activity ratios for a range of scenarios\n",
    "\n",
    "The three cells below will determine a series of one-dimensional column results for the same user input file defined and modified above, but over a range of values for maximum residual porosity (phi0) and solid mantle upwelling rate (W0); these results will then be saved as downloadable output files. The user can select whether to define the specific 'phi0' and 'W0' values as evenly spaced log grid intervals (option 1) or with manually specified values (option 2). As above, all upwelling rates should be entered in units of cm/yr."
   ]
  },
  {
   "cell_type": "code",
   "execution_count": null,
   "metadata": {},
   "outputs": [],
   "source": [
    "# Option 1:\n",
    "# phi0 = np.logspace(-3,-2,11)\n",
    "# W0 = np.logspace(-1,1,11)\n",
    "\n",
    "# Option 2:\n",
    "phi0 = np.array([0.001, 0.002, 0.005, 0.01])\n",
    "W0 = np.array([0.5, 1., 2., 5., 10., 20., 50.])\n",
    "\n",
    "import time\n",
    "tic = time.clock()\n",
    "toc = time.clock()\n",
    "print('\\nelapsed time={}'.format(toc-tic))\n",
    "\n",
    "# Calculate the U-238 decay chain grid values:\n",
    "# NOTE: Alphas other than 1 are not working in this version for the grids.\n",
    "# I need to fix how it is being called as a vector above, just haven't gotten to it yet!\n",
    "# So don't run this cell or those below for now. The unmodified version in the older notebooks works better.\n",
    "act = us.solve_grid(phi0, n, W0, us.D_238, us.lambdas_238, us.alpha0_238)\n",
    "Th = act[0]\n",
    "Ra = act[1]\n",
    "df = pd.DataFrame(Th)\n",
    "df.to_csv(\"output_files/{}_Th_grid.csv\".format(runname))\n",
    "df = pd.DataFrame(Ra)\n",
    "df.to_csv(\"output_files/{}_Ra_grid.csv\".format(runname))"
   ]
  },
  {
   "cell_type": "code",
   "execution_count": null,
   "metadata": {
    "scrolled": true
   },
   "outputs": [],
   "source": [
    "# Calculate the U-235 decay chain grid values:\n",
    "act_235 = us.solve_grid(phi0, n, W0, us.D_235, us.lambdas_235, us.alpha0_235)\n",
    "Pa = act_235[0]\n",
    "df = pd.DataFrame(Pa)\n",
    "df.to_csv(\"output_files/{}_Pa_grid.csv\".format(runname))"
   ]
  },
  {
   "cell_type": "markdown",
   "metadata": {},
   "source": [
    "The cells below will produce figures that illustrate the model results in a variety of ways. First, each isotopic activity ratio is contoured in parameter-parameter space (Figure 3), and then upwelling rates (W) and maximum residual melt porosities (phi) are contoured as mesh grids in activity ratio-activity ratio space (Figure 4). All figures are automatically saved to the user's folder.\n",
    "\n",
    "Figure 3. Diagrams of upwelling rate (W) vs. maximum residual melt porosity (phi) showing contoured activity ratios."
   ]
  },
  {
   "cell_type": "code",
   "execution_count": null,
   "metadata": {},
   "outputs": [],
   "source": [
    "from UserCalc import plot_contours\n",
    "plot_contours(phi0,W0,act, figsize=(12,12))\n",
    "plt.savefig(\"output_files/{}_Th_Ra_contours.ps\".format(runname))"
   ]
  },
  {
   "cell_type": "code",
   "execution_count": null,
   "metadata": {},
   "outputs": [],
   "source": [
    "plot_contours(phi0,W0,act_235)\n",
    "plt.savefig(\"output_files/{}_Pa_contours.ps\".format(runname))"
   ]
  },
  {
   "cell_type": "markdown",
   "metadata": {},
   "source": [
    "Figure 4. Diagrams showing a) (226Ra/230Th) vs. (230Th/238U) and b) (231Pa/235U) vs. (230Th/238U) for the gridded upwelling rate (W) and maximum residual porosity (phi) values defined above."
   ]
  },
  {
   "cell_type": "code",
   "execution_count": null,
   "metadata": {},
   "outputs": [],
   "source": [
    "from UserCalc import plot_mesh_Ra\n",
    "plot_mesh_Ra(Th,Ra,W0,phi0)\n",
    "plt.savefig(\"output_files/{}_Ra-Th.ps\".format(runname))"
   ]
  },
  {
   "cell_type": "code",
   "execution_count": null,
   "metadata": {},
   "outputs": [],
   "source": [
    "from UserCalc import plot_mesh_Pa\n",
    "plot_mesh_Pa(Th,Pa,W0,phi0)\n",
    "plt.savefig(\"output_files/{}_Pa-Th.ps\".format(runname))"
   ]
  },
  {
   "cell_type": "markdown",
   "metadata": {},
   "source": [
    "## Summary\n",
    "Put some text here"
   ]
  },
  {
   "cell_type": "markdown",
   "metadata": {},
   "source": [
    "## Acknowledgments\n",
    "Put some text here too"
   ]
  },
  {
   "cell_type": "markdown",
   "metadata": {},
   "source": [
    "## References\n",
    "\n",
    "Work on BibTex formatting above\n",
    "\n",
    "McKenzie 1985\n",
    "Spiegelman 2000\n",
    "Spiegelman and Elliott 1993\n",
    "Zou\n",
    "Zou and Zindler\n",
    "Sims 1999\n",
    "Stracke et al., 2003\n",
    "Lundstrom et al.\n",
    "Jull et al., 2002\n",
    "Bourdon et al., 2005\n",
    "Elkins et al., 2019\n",
    "McKenzie and Bickle (1985)\n",
    "Asimow et al. (2001)"
   ]
  },
  {
   "cell_type": "code",
   "execution_count": null,
   "metadata": {},
   "outputs": [],
   "source": []
  }
 ],
 "metadata": {
  "kernelspec": {
   "display_name": "Python 3",
   "language": "python",
   "name": "python3"
  },
  "language_info": {
   "codemirror_mode": {
    "name": "ipython",
    "version": 3
   },
   "file_extension": ".py",
   "mimetype": "text/x-python",
   "name": "python",
   "nbconvert_exporter": "python",
   "pygments_lexer": "ipython3",
   "version": "3.7.5"
  }
 },
 "nbformat": 4,
 "nbformat_minor": 4
}
